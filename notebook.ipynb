{
 "cells": [
  {
   "cell_type": "markdown",
   "metadata": {},
   "source": [
    "# Notebook compatible with docker onelio/g-stable-diffusion:AUTOMATIC1111_ab0a79c"
   ]
  },
  {
   "cell_type": "markdown",
   "metadata": {},
   "source": [
    "## Setting up the Symbolic links to the models\n",
    "1- First we mount each model with strategic names so the final datasets directory turns out as follows.\n",
    "- /datasets/gfpgan/GFPGANv1.3.pth\n",
    "- /datasets/stable-diffusion/model.ckpt\n",
    "\n",
    "2- Then we run the following commands to create a symbolic link for each folder of the datasets to the stable-diffusion equivalent directory."
   ]
  },
  {
   "cell_type": "code",
   "execution_count": null,
   "metadata": {},
   "outputs": [],
   "source": [
    "# Stable-Diffusion model\n",
    "!ln -s /datasets/stable-diffusion/* /stable-diffusion\n",
    "# GFPGAN model\n",
    "!ln -s /datasets/gfpgan/* /stable-diffusion"
   ]
  },
  {
   "cell_type": "markdown",
   "metadata": {},
   "source": [
    "# (Optional) Including embeddings\n",
    "3- Run the following script to get the data linked."
   ]
  },
  {
   "cell_type": "code",
   "execution_count": null,
   "metadata": {},
   "outputs": [],
   "source": [
    "# Embeddings folder\n",
    "!ln -s /datasets/embeddings /stable-diffusion/embeddings"
   ]
  },
  {
   "cell_type": "markdown",
   "metadata": {},
   "source": [
    "## Starting the python webui script\n",
    "4- Finally, with all of that out of the way, we can now launch the webui with the following script. Remember to change the password."
   ]
  },
  {
   "cell_type": "code",
   "execution_count": null,
   "metadata": {},
   "outputs": [],
   "source": [
    "cd /stable-diffusion\n",
    "python webui.py --share"
   ]
  },
  {
   "cell_type": "markdown",
   "metadata": {},
   "source": [
    "...or, if embeddings present."
   ]
  },
  {
   "cell_type": "code",
   "execution_count": null,
   "metadata": {},
   "outputs": [],
   "source": [
    "cd /stable-diffusion\n",
    "python webui.py --share --embeddings-dir embeddings"
   ]
  },
  {
   "cell_type": "markdown",
   "metadata": {},
   "source": [
    "Wait for the logs to output a valid http url to navigate to.\n",
    "Training and more can be done following the other notebooks"
   ]
  }
 ],
 "metadata": {
  "language_info": {
   "name": "python"
  },
  "orig_nbformat": 4
 },
 "nbformat": 4,
 "nbformat_minor": 2
}
