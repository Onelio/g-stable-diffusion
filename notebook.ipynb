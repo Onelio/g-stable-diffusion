{
 "cells": [
  {
   "cell_type": "markdown",
   "metadata": {},
   "source": [
    "# Notebook compatible with docker onelio/g-stable-diffusion:AUTOMATIC1111_ab0a79c"
   ]
  },
  {
   "cell_type": "markdown",
   "metadata": {},
   "source": [
    "## Setting up the Symbolic links to the models\n",
    "1- First we mount each model with strategic names so the final datasets directory turns out as follows.\n",
    "- /datasets/gfpgan/GFPGANv1.3.pth\n",
    "- /datasets/stable-diffusion/model.ckpt\n",
    "\n",
    "2- Then we run the following commands to create a symbolic link for each folder of the datasets to the stable-diffusion equivalent directory."
   ]
  },
  {
   "cell_type": "code",
   "execution_count": null,
   "metadata": {},
   "outputs": [],
   "source": [
    "# Waifu-Diffusion model\n",
    "!ln -s /datasets/waifu-diffusion/* /stable-diffusion\n",
    "# NovelAI model\n",
    "!ln -s /datasets/novelai-diffusion/model.ckpt /stable-diffusion/models/Stable-diffusion/novelai.ckpt\n",
    "!ln -s /datasets/novelai-diffusion/model.vae.pt /stable-diffusion/models/Stable-diffusion/novelai.vae.pt\n",
    "# Stable Diffusion 1.4\n",
    "!ln -s /datasets/stable-diffusion/model.ckpt /stable-diffusion/models/Stable-diffusion/sd-1-4.ckpt\n",
    "# Extra NovelAI\n",
    "!ln -s /datasets/hypernetworks /stable-diffusion/models/"
   ]
  },
  {
   "cell_type": "markdown",
   "metadata": {},
   "source": [
    "## Starting the python webui script\n",
    "4- Finally, with all of that out of the way, we can now launch the webui with the following script. Remember to change the password."
   ]
  },
  {
   "cell_type": "code",
   "execution_count": null,
   "metadata": {},
   "outputs": [],
   "source": [
    "cd /stable-diffusion\n",
    "python webui.py --share --gradio-auth onelio:password"
   ]
  },
  {
   "cell_type": "markdown",
   "metadata": {},
   "source": [
    "...or, if ssh tunnel."
   ]
  },
  {
   "cell_type": "code",
   "execution_count": null,
   "metadata": {},
   "outputs": [],
   "source": [
    "cd /stable-diffusion\n",
    "ssh -NfT -o \"StrictHostKeyChecking=no\" -R 7860:localhost:7860 root@server.com -p 3298\n",
    "python webui.py --port 7860\n",
    "\n",
    "# Local\n",
    "ssh -L 7860:localhost:7860 root@server.com -p 3298"
   ]
  },
  {
   "cell_type": "markdown",
   "metadata": {},
   "source": [
    "Wait for the logs to output a valid http url to navigate to.\n",
    "Training and more can be done following the other notebooks"
   ]
  }
 ],
 "metadata": {
  "language_info": {
   "name": "python"
  },
  "orig_nbformat": 4
 },
 "nbformat": 4,
 "nbformat_minor": 2
}
