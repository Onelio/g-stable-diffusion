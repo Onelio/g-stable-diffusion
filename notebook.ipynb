{
 "cells": [
  {
   "cell_type": "markdown",
   "metadata": {},
   "source": [
    "# Notebook compatible with docker onelio/g-stable-diffusion:960b623"
   ]
  },
  {
   "cell_type": "markdown",
   "metadata": {},
   "source": [
    "## Setting up the Symbolic links to the models\n",
    "1- First we mount each model with strategic names so the final datasets directory truns out as follows.\n",
    "- /datasets/gfpgan/GFPGANv1.3.pth\n",
    "- /datasets/ldsr/model.ckpt\n",
    "- /datasets/ldsr/project.yaml\n",
    "- /datasets/realesrgan/RealESRGAN_x4plus.pth\n",
    "- /datasets/realesrgan/RealESRGAN_x4plus_anime_6B.pth\n",
    "- /datasets/stable-diffusion/model.ckpt\n",
    "\n",
    "2- Then we run the following commands to create a symbolic link for each folder of the datasets to the stable-diffusion equivalent directory."
   ]
  },
  {
   "cell_type": "code",
   "execution_count": null,
   "metadata": {},
   "outputs": [],
   "source": [
    "# Stable-Diffusion model\n",
    "rm -r /stable-diffusion/models/ldm/stable-diffusion-v1\n",
    "ln -s /datasets/stable-diffusion/ /stable-diffusion/models/ldm/stable-diffusion-v1\n",
    "# GFPGAN model\n",
    "rm -r /stable-diffusion/src/gfpgan/experiments/pretrained_models\n",
    "ln -s /datasets/gfpgan/ /stable-diffusion/src/gfpgan/experiments/pretrained_models\n",
    "# RealESRGAN model\n",
    "rm -r /stable-diffusion/src/realesrgan/experiments/pretrained_models\n",
    "ln -s /datasets/realesrgan/ /stable-diffusion/src/realesrgan/experiments/pretrained_models\n",
    "# Latent-Diffusion model\n",
    "mkdir /stable-diffusion/src/latent-diffusion/experiments\n",
    "ln -s /datasets/ldsr/ /stable-diffusion/src/latent-diffusion/experiments/pretrained_models"
   ]
  },
  {
   "cell_type": "markdown",
   "metadata": {},
   "source": [
    "## Starting the python webui script\n",
    "3- Finally, with all of that out of the way, we can now launch the webui with the following script. Remember to change the password."
   ]
  },
  {
   "cell_type": "code",
   "execution_count": null,
   "metadata": {},
   "outputs": [],
   "source": [
    "cd /stable-diffusion\n",
    "$HOME/miniconda3/bin/conda run --no-capture-output -n ldm python -u scripts/webui.py --skip-grid --outdir /storage --share --share-password password"
   ]
  },
  {
   "cell_type": "markdown",
   "metadata": {},
   "source": [
    "Wait for the logs to output a valid http url to navigate to."
   ]
  }
 ],
 "metadata": {
  "language_info": {
   "name": "python"
  },
  "orig_nbformat": 4
 },
 "nbformat": 4,
 "nbformat_minor": 2
}
